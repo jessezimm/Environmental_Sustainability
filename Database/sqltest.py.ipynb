{
 "cells": [
  {
   "cell_type": "code",
   "execution_count": 44,
   "id": "ecf4b11c",
   "metadata": {},
   "outputs": [],
   "source": [
    "import pyodbc\n",
    "import pandas as pd\n",
    "from sqlalchemy import create_engine"
   ]
  },
  {
   "cell_type": "code",
   "execution_count": 45,
   "id": "f5684e4b",
   "metadata": {},
   "outputs": [],
   "source": [
    "#import database password\n",
    "from config2 import db_password"
   ]
  },
  {
   "cell_type": "code",
   "execution_count": 46,
   "id": "fc87de61",
   "metadata": {},
   "outputs": [],
   "source": [
    "server = 'waterserver.database.windows.net'\n",
    "database = 'water_potability'\n",
    "username = 'azuresql'\n",
    "password = db_password  \n",
    "driver= '{ODBC Driver 17 for SQL Server}'\n",
    "connection_string = pyodbc.connect('DRIVER='+driver+';SERVER=tcp:'+server+';PORT=1433;DATABASE='+database+';UID='+username+';PWD='+ password)"
   ]
  },
  {
   "cell_type": "code",
   "execution_count": 48,
   "id": "a6f6e9c3",
   "metadata": {},
   "outputs": [],
   "source": [
    "cursor = connection_string.cursor()"
   ]
  },
  {
   "cell_type": "code",
   "execution_count": 31,
   "id": "f5390057",
   "metadata": {},
   "outputs": [],
   "source": [
    "#select all from table"
   ]
  },
  {
   "cell_type": "code",
   "execution_count": 51,
   "id": "7dfaa569",
   "metadata": {},
   "outputs": [],
   "source": [
    "query = \"SELECT * FROM cleanwaterdata\""
   ]
  },
  {
   "cell_type": "code",
   "execution_count": 54,
   "id": "669638d3",
   "metadata": {},
   "outputs": [
    {
     "name": "stdout",
     "output_type": "stream",
     "text": [
      "    id         ph    Hardness       Solids  Chloramines     Sulfate  \\\n",
      "0    0   7.080795  204.890456  20791.31898     7.300212  368.516441   \n",
      "1    1   3.716080  129.422921  18630.05786     6.635246    7.080795   \n",
      "2    2   8.099124  224.236259  19909.54173     9.275884    7.080795   \n",
      "3    3   8.316766  214.373394  22018.41744     8.059332  356.886136   \n",
      "4    4   9.092223  181.101509  17978.98634     6.546600  310.135738   \n",
      "5    5   5.584087  188.313324  28748.68774     7.544869  326.678363   \n",
      "6    6  10.223862  248.071735  28749.71654     7.513408  393.663395   \n",
      "7    7   8.635849  203.361523  13672.09176     4.563009  303.309771   \n",
      "8    8   7.080795  118.988579  14285.58385     7.804174  268.646941   \n",
      "9    9  11.180284  227.231469  25484.50849     9.077200  404.041635   \n",
      "10  10   7.360640  165.520797  32452.61441     7.550701  326.624353   \n",
      "11  11   7.974522  218.693300  18767.65668     8.110385    7.080795   \n",
      "12  12   7.119824  156.704993  18730.81365     3.606036  282.344050   \n",
      "13  13   7.080795  150.174923  27331.36196     6.838223  299.415781   \n",
      "14  14   7.496232  205.344982  28388.00489     5.072558    7.080795   \n",
      "15  15   6.347272  186.732881  41065.23476     9.629596  364.487687   \n",
      "16  16   7.051786  211.049406  30980.60079    10.094796    7.080795   \n",
      "17  17   9.181560  273.813807  24041.32628     6.904990  398.350517   \n",
      "18  18   8.975464  279.357167  19460.39813     6.204321    7.080795   \n",
      "19  19   7.371050  214.496611  25630.32004     4.432669  335.754439   \n",
      "20  20   7.080795  227.435048  22305.56741    10.333918    7.080795   \n",
      "21  21   6.660212  168.283747  30944.36359     5.858769  310.930858   \n",
      "22  22   7.080795  215.977859  17107.22423     5.607060  326.943978   \n",
      "23  23   3.902476  196.903247  21167.50010     6.996312    7.080795   \n",
      "24  24   5.400302  140.739062  17266.59342    10.056852  328.358241   \n",
      "25  25   6.514415  198.767351  21218.70287     8.670937  323.596349   \n",
      "\n",
      "    Conductivity  Organic_carbon  Trihalomethanes  Turbidity  Potability  \n",
      "0     564.308654       10.379783        86.990970   2.963135           0  \n",
      "1     592.885359       15.180013        56.329076   4.500656           0  \n",
      "2     418.606213       16.868637        66.420093   3.055934           0  \n",
      "3     363.266516       18.436525       100.341674   4.628771           0  \n",
      "4     398.410813       11.558279        31.997993   4.075075           0  \n",
      "5     280.467916        8.399735        54.917862   2.559708           0  \n",
      "6     283.651634       13.789695        84.603556   2.672989           0  \n",
      "7     474.607645       12.363817        62.798309   4.401425           0  \n",
      "8     389.375566       12.706049        53.928846   3.595017           0  \n",
      "9     563.885481       17.927806        71.976601   4.370562           0  \n",
      "10    425.383420       15.586810        78.740016   3.662292           0  \n",
      "11    364.098230       14.525746        76.485911   4.011718           0  \n",
      "12    347.715027       15.929536        79.500778   3.445756           0  \n",
      "13    379.761835       19.370807        76.509996   4.413974           0  \n",
      "14    444.645352       13.228311        70.300213   4.777382           0  \n",
      "15    516.743282       11.539781        75.071617   4.376348           0  \n",
      "16    315.141267       20.397022        56.651604   4.268429           0  \n",
      "17    477.974642       13.387341        71.457362   4.503661           0  \n",
      "18    431.443990       12.888759        63.821237   2.436086           0  \n",
      "19    469.914552       12.509164        62.797277   2.560299           0  \n",
      "20    554.820087       16.331693        45.382815   4.133423           0  \n",
      "21    523.671298       17.884235        77.042318   3.749701           0  \n",
      "22    436.256194       14.189062        59.855476   5.459251           0  \n",
      "23    444.478882       16.609033        90.181676   4.528523           0  \n",
      "24    472.874073       11.256381        56.931906   4.824786           0  \n",
      "25    413.290450       14.900000        79.847843   5.200885           0  \n"
     ]
    }
   ],
   "source": [
    "safe_water_df = pd.read_sql(query, connection_string)\n",
    "print(safe_water_df.head(26))"
   ]
  },
  {
   "cell_type": "code",
   "execution_count": 55,
   "id": "ce5956c8",
   "metadata": {},
   "outputs": [
    {
     "data": {
      "text/plain": [
       "id                   int64\n",
       "ph                 float64\n",
       "Hardness           float64\n",
       "Solids             float64\n",
       "Chloramines        float64\n",
       "Sulfate            float64\n",
       "Conductivity       float64\n",
       "Organic_carbon     float64\n",
       "Trihalomethanes    float64\n",
       "Turbidity          float64\n",
       "Potability           int64\n",
       "dtype: object"
      ]
     },
     "execution_count": 55,
     "metadata": {},
     "output_type": "execute_result"
    }
   ],
   "source": [
    "safe_water_df.dtypes\n"
   ]
  },
  {
   "cell_type": "code",
   "execution_count": null,
   "id": "fa1f7afd",
   "metadata": {},
   "outputs": [],
   "source": []
  }
 ],
 "metadata": {
  "kernelspec": {
   "display_name": "mlenv",
   "language": "python",
   "name": "mlenv"
  },
  "language_info": {
   "codemirror_mode": {
    "name": "ipython",
    "version": 3
   },
   "file_extension": ".py",
   "mimetype": "text/x-python",
   "name": "python",
   "nbconvert_exporter": "python",
   "pygments_lexer": "ipython3",
   "version": "3.7.11"
  }
 },
 "nbformat": 4,
 "nbformat_minor": 5
}
